{
 "cells": [
  {
   "cell_type": "code",
   "execution_count": 1,
   "metadata": {},
   "outputs": [
    {
     "data": {
      "text/html": [
       "<div>\n",
       "<style>\n",
       "    .dataframe thead tr:only-child th {\n",
       "        text-align: right;\n",
       "    }\n",
       "\n",
       "    .dataframe thead th {\n",
       "        text-align: left;\n",
       "    }\n",
       "\n",
       "    .dataframe tbody tr th {\n",
       "        vertical-align: top;\n",
       "    }\n",
       "</style>\n",
       "<table border=\"1\" class=\"dataframe\">\n",
       "  <thead>\n",
       "    <tr style=\"text-align: right;\">\n",
       "      <th></th>\n",
       "      <th>PassengerId</th>\n",
       "      <th>Survived</th>\n",
       "      <th>Pclass</th>\n",
       "      <th>Name</th>\n",
       "      <th>Sex</th>\n",
       "      <th>Age</th>\n",
       "      <th>SibSp</th>\n",
       "      <th>Parch</th>\n",
       "      <th>Ticket</th>\n",
       "      <th>Fare</th>\n",
       "      <th>Cabin</th>\n",
       "      <th>Embarked</th>\n",
       "    </tr>\n",
       "  </thead>\n",
       "  <tbody>\n",
       "    <tr>\n",
       "      <th>0</th>\n",
       "      <td>1</td>\n",
       "      <td>0</td>\n",
       "      <td>3</td>\n",
       "      <td>Braund, Mr. Owen Harris</td>\n",
       "      <td>male</td>\n",
       "      <td>22.0</td>\n",
       "      <td>1</td>\n",
       "      <td>0</td>\n",
       "      <td>A/5 21171</td>\n",
       "      <td>7.2500</td>\n",
       "      <td>NaN</td>\n",
       "      <td>S</td>\n",
       "    </tr>\n",
       "    <tr>\n",
       "      <th>1</th>\n",
       "      <td>2</td>\n",
       "      <td>1</td>\n",
       "      <td>1</td>\n",
       "      <td>Cumings, Mrs. John Bradley (Florence Briggs Th...</td>\n",
       "      <td>female</td>\n",
       "      <td>38.0</td>\n",
       "      <td>1</td>\n",
       "      <td>0</td>\n",
       "      <td>PC 17599</td>\n",
       "      <td>71.2833</td>\n",
       "      <td>C85</td>\n",
       "      <td>C</td>\n",
       "    </tr>\n",
       "    <tr>\n",
       "      <th>2</th>\n",
       "      <td>3</td>\n",
       "      <td>1</td>\n",
       "      <td>3</td>\n",
       "      <td>Heikkinen, Miss. Laina</td>\n",
       "      <td>female</td>\n",
       "      <td>26.0</td>\n",
       "      <td>0</td>\n",
       "      <td>0</td>\n",
       "      <td>STON/O2. 3101282</td>\n",
       "      <td>7.9250</td>\n",
       "      <td>NaN</td>\n",
       "      <td>S</td>\n",
       "    </tr>\n",
       "    <tr>\n",
       "      <th>3</th>\n",
       "      <td>4</td>\n",
       "      <td>1</td>\n",
       "      <td>1</td>\n",
       "      <td>Futrelle, Mrs. Jacques Heath (Lily May Peel)</td>\n",
       "      <td>female</td>\n",
       "      <td>35.0</td>\n",
       "      <td>1</td>\n",
       "      <td>0</td>\n",
       "      <td>113803</td>\n",
       "      <td>53.1000</td>\n",
       "      <td>C123</td>\n",
       "      <td>S</td>\n",
       "    </tr>\n",
       "    <tr>\n",
       "      <th>4</th>\n",
       "      <td>5</td>\n",
       "      <td>0</td>\n",
       "      <td>3</td>\n",
       "      <td>Allen, Mr. William Henry</td>\n",
       "      <td>male</td>\n",
       "      <td>35.0</td>\n",
       "      <td>0</td>\n",
       "      <td>0</td>\n",
       "      <td>373450</td>\n",
       "      <td>8.0500</td>\n",
       "      <td>NaN</td>\n",
       "      <td>S</td>\n",
       "    </tr>\n",
       "  </tbody>\n",
       "</table>\n",
       "</div>"
      ],
      "text/plain": [
       "   PassengerId  Survived  Pclass  \\\n",
       "0            1         0       3   \n",
       "1            2         1       1   \n",
       "2            3         1       3   \n",
       "3            4         1       1   \n",
       "4            5         0       3   \n",
       "\n",
       "                                                Name     Sex   Age  SibSp  \\\n",
       "0                            Braund, Mr. Owen Harris    male  22.0      1   \n",
       "1  Cumings, Mrs. John Bradley (Florence Briggs Th...  female  38.0      1   \n",
       "2                             Heikkinen, Miss. Laina  female  26.0      0   \n",
       "3       Futrelle, Mrs. Jacques Heath (Lily May Peel)  female  35.0      1   \n",
       "4                           Allen, Mr. William Henry    male  35.0      0   \n",
       "\n",
       "   Parch            Ticket     Fare Cabin Embarked  \n",
       "0      0         A/5 21171   7.2500   NaN        S  \n",
       "1      0          PC 17599  71.2833   C85        C  \n",
       "2      0  STON/O2. 3101282   7.9250   NaN        S  \n",
       "3      0            113803  53.1000  C123        S  \n",
       "4      0            373450   8.0500   NaN        S  "
      ]
     },
     "execution_count": 1,
     "metadata": {},
     "output_type": "execute_result"
    }
   ],
   "source": [
    "import pandas as pd\n",
    "import numpy as np\n",
    "\n",
    "train_df = pd.read_csv('train.csv')\n",
    "test_df = pd.read_csv('test.csv')\n",
    "\n",
    "train_df.head()"
   ]
  },
  {
   "cell_type": "code",
   "execution_count": 2,
   "metadata": {
    "collapsed": true
   },
   "outputs": [],
   "source": [
    "# count missing values\n",
    "sum_missing = train_df.isnull().sum()"
   ]
  },
  {
   "cell_type": "code",
   "execution_count": 3,
   "metadata": {
    "collapsed": true
   },
   "outputs": [],
   "source": [
    "# impute missing values\n",
    "train_df.fillna(-999, inplace=True)\n",
    "test_df.fillna(-999, inplace=True)"
   ]
  },
  {
   "cell_type": "code",
   "execution_count": 4,
   "metadata": {
    "collapsed": true
   },
   "outputs": [],
   "source": [
    "# define target, features\n",
    "X = train_df.drop('Survived', axis=1)\n",
    "y = train_df['Survived']"
   ]
  },
  {
   "cell_type": "code",
   "execution_count": 6,
   "metadata": {},
   "outputs": [
    {
     "data": {
      "text/plain": [
       "PassengerId      int64\n",
       "Pclass           int64\n",
       "Name            object\n",
       "Sex             object\n",
       "Age            float64\n",
       "SibSp            int64\n",
       "Parch            int64\n",
       "Ticket          object\n",
       "Fare           float64\n",
       "Cabin           object\n",
       "Embarked        object\n",
       "dtype: object"
      ]
     },
     "execution_count": 6,
     "metadata": {},
     "output_type": "execute_result"
    }
   ],
   "source": [
    "X.dtypes"
   ]
  },
  {
   "cell_type": "code",
   "execution_count": 7,
   "metadata": {
    "collapsed": true
   },
   "outputs": [],
   "source": [
    "#categorical_features_indices = np.where(X.dtypes != np.float)[0]"
   ]
  },
  {
   "cell_type": "code",
   "execution_count": 5,
   "metadata": {
    "collapsed": true
   },
   "outputs": [],
   "source": [
    "numeric_var = [key for key in dict(X.dtypes)\n",
    "                   if dict(X.dtypes)[key]\n",
    "                       in ['float64','float32','int32','int64']] # Numeric Variable\n",
    "\n",
    "cat_var = [key for key in dict(X.dtypes)\n",
    "             if dict(X.dtypes)[key] in ['object'] ] # Categorical Varible"
   ]
  },
  {
   "cell_type": "code",
   "execution_count": 6,
   "metadata": {
    "collapsed": true
   },
   "outputs": [],
   "source": [
    "# get columns indices number\n",
    "def column_index(df, query_cols):\n",
    "    cols = df.columns.values\n",
    "    sidx = np.argsort(cols)\n",
    "    return sidx[np.searchsorted(cols,query_cols,sorter=sidx)]"
   ]
  },
  {
   "cell_type": "code",
   "execution_count": 7,
   "metadata": {
    "collapsed": true
   },
   "outputs": [],
   "source": [
    "cat_index = column_index(X, cat_var)"
   ]
  },
  {
   "cell_type": "code",
   "execution_count": 8,
   "metadata": {},
   "outputs": [
    {
     "data": {
      "text/plain": [
       "array([ 2,  3,  7,  9, 10])"
      ]
     },
     "execution_count": 8,
     "metadata": {},
     "output_type": "execute_result"
    }
   ],
   "source": [
    "cat_index"
   ]
  },
  {
   "cell_type": "code",
   "execution_count": 9,
   "metadata": {},
   "outputs": [
    {
     "name": "stderr",
     "output_type": "stream",
     "text": [
      "/Users/mac/.local/lib/python3.6/site-packages/sklearn/model_selection/_split.py:2069: FutureWarning: From version 0.21, test_size will always complement train_size unless both are specified.\n",
      "  FutureWarning)\n"
     ]
    }
   ],
   "source": [
    "from sklearn.model_selection import train_test_split\n",
    "\n",
    "X_train, X_validation, y_train, y_validation = train_test_split(X, y, train_size=0.75, random_state=42)\n",
    "\n",
    "X_test = test_df"
   ]
  },
  {
   "cell_type": "code",
   "execution_count": 10,
   "metadata": {
    "collapsed": true
   },
   "outputs": [],
   "source": [
    "from catboost import CatBoostClassifier, Pool, cv\n",
    "from sklearn.metrics import accuracy_score, roc_auc_score"
   ]
  },
  {
   "cell_type": "code",
   "execution_count": 17,
   "metadata": {
    "collapsed": true
   },
   "outputs": [],
   "source": [
    "model = CatBoostClassifier(\n",
    "    custom_loss=['AUC']\n",
    ")"
   ]
  },
  {
   "cell_type": "code",
   "execution_count": 18,
   "metadata": {},
   "outputs": [
    {
     "name": "stdout",
     "output_type": "stream",
     "text": [
      "0:\tlearn: 0.6566433\ttest: 0.6555803\tbest: 0.6555803 (0)\ttotal: 24.5ms\tremaining: 24.5s\n",
      "1:\tlearn: 0.6199772\ttest: 0.6188700\tbest: 0.6188700 (1)\ttotal: 35.6ms\tremaining: 17.8s\n",
      "2:\tlearn: 0.5848711\ttest: 0.5869462\tbest: 0.5869462 (2)\ttotal: 47.9ms\tremaining: 15.9s\n",
      "3:\tlearn: 0.5538386\ttest: 0.5569970\tbest: 0.5569970 (3)\ttotal: 61.8ms\tremaining: 15.4s\n",
      "4:\tlearn: 0.5381961\ttest: 0.5412003\tbest: 0.5412003 (4)\ttotal: 73.9ms\tremaining: 14.7s\n",
      "5:\tlearn: 0.5261420\ttest: 0.5295138\tbest: 0.5295138 (5)\ttotal: 84.8ms\tremaining: 14s\n",
      "6:\tlearn: 0.5077056\ttest: 0.5119539\tbest: 0.5119539 (6)\ttotal: 99.1ms\tremaining: 14.1s\n",
      "7:\tlearn: 0.4937319\ttest: 0.4995796\tbest: 0.4995796 (7)\ttotal: 113ms\tremaining: 14s\n",
      "8:\tlearn: 0.4877487\ttest: 0.4938176\tbest: 0.4938176 (8)\ttotal: 125ms\tremaining: 13.7s\n",
      "9:\tlearn: 0.4779730\ttest: 0.4851482\tbest: 0.4851482 (9)\ttotal: 133ms\tremaining: 13.2s\n",
      "10:\tlearn: 0.4672601\ttest: 0.4696902\tbest: 0.4696902 (10)\ttotal: 144ms\tremaining: 13s\n",
      "11:\tlearn: 0.4577228\ttest: 0.4634981\tbest: 0.4634981 (11)\ttotal: 157ms\tremaining: 13s\n",
      "12:\tlearn: 0.4528227\ttest: 0.4588778\tbest: 0.4588778 (12)\ttotal: 168ms\tremaining: 12.8s\n",
      "13:\tlearn: 0.4478762\ttest: 0.4524476\tbest: 0.4524476 (13)\ttotal: 176ms\tremaining: 12.4s\n",
      "14:\tlearn: 0.4467557\ttest: 0.4507290\tbest: 0.4507290 (14)\ttotal: 185ms\tremaining: 12.2s\n",
      "15:\tlearn: 0.4446798\ttest: 0.4485136\tbest: 0.4485136 (15)\ttotal: 194ms\tremaining: 11.9s\n",
      "16:\tlearn: 0.4388193\ttest: 0.4431538\tbest: 0.4431538 (16)\ttotal: 207ms\tremaining: 12s\n",
      "17:\tlearn: 0.4364321\ttest: 0.4392618\tbest: 0.4392618 (17)\ttotal: 217ms\tremaining: 11.8s\n",
      "18:\tlearn: 0.4353084\ttest: 0.4382362\tbest: 0.4382362 (18)\ttotal: 235ms\tremaining: 12.1s\n",
      "19:\tlearn: 0.4326661\ttest: 0.4354703\tbest: 0.4354703 (19)\ttotal: 245ms\tremaining: 12s\n",
      "20:\tlearn: 0.4283092\ttest: 0.4328179\tbest: 0.4328179 (20)\ttotal: 258ms\tremaining: 12s\n",
      "21:\tlearn: 0.4267293\ttest: 0.4318589\tbest: 0.4318589 (21)\ttotal: 271ms\tremaining: 12s\n",
      "22:\tlearn: 0.4246637\ttest: 0.4298331\tbest: 0.4298331 (22)\ttotal: 283ms\tremaining: 12s\n",
      "23:\tlearn: 0.4225275\ttest: 0.4281396\tbest: 0.4281396 (23)\ttotal: 294ms\tremaining: 12s\n",
      "24:\tlearn: 0.4197633\ttest: 0.4268480\tbest: 0.4268480 (24)\ttotal: 307ms\tremaining: 12s\n",
      "25:\tlearn: 0.4183423\ttest: 0.4245629\tbest: 0.4245629 (25)\ttotal: 321ms\tremaining: 12s\n",
      "26:\tlearn: 0.4168972\ttest: 0.4213094\tbest: 0.4213094 (26)\ttotal: 340ms\tremaining: 12.3s\n",
      "27:\tlearn: 0.4152428\ttest: 0.4196722\tbest: 0.4196722 (27)\ttotal: 358ms\tremaining: 12.4s\n",
      "28:\tlearn: 0.4130669\ttest: 0.4159731\tbest: 0.4159731 (28)\ttotal: 371ms\tremaining: 12.4s\n",
      "29:\tlearn: 0.4120575\ttest: 0.4151524\tbest: 0.4151524 (29)\ttotal: 381ms\tremaining: 12.3s\n",
      "30:\tlearn: 0.4116506\ttest: 0.4145540\tbest: 0.4145540 (30)\ttotal: 389ms\tremaining: 12.2s\n",
      "31:\tlearn: 0.4106824\ttest: 0.4126209\tbest: 0.4126209 (31)\ttotal: 397ms\tremaining: 12s\n",
      "32:\tlearn: 0.4101578\ttest: 0.4119135\tbest: 0.4119135 (32)\ttotal: 405ms\tremaining: 11.9s\n",
      "33:\tlearn: 0.4098109\ttest: 0.4113181\tbest: 0.4113181 (33)\ttotal: 414ms\tremaining: 11.8s\n",
      "34:\tlearn: 0.4062024\ttest: 0.4097318\tbest: 0.4097318 (34)\ttotal: 428ms\tremaining: 11.8s\n",
      "35:\tlearn: 0.4055008\ttest: 0.4089328\tbest: 0.4089328 (35)\ttotal: 448ms\tremaining: 12s\n",
      "36:\tlearn: 0.4031950\ttest: 0.4080573\tbest: 0.4080573 (36)\ttotal: 465ms\tremaining: 12.1s\n",
      "37:\tlearn: 0.4030562\ttest: 0.4079197\tbest: 0.4079197 (37)\ttotal: 473ms\tremaining: 12s\n",
      "38:\tlearn: 0.4009876\ttest: 0.4067273\tbest: 0.4067273 (38)\ttotal: 485ms\tremaining: 12s\n",
      "39:\tlearn: 0.3988913\ttest: 0.4060833\tbest: 0.4060833 (39)\ttotal: 499ms\tremaining: 12s\n",
      "40:\tlearn: 0.3958868\ttest: 0.4036903\tbest: 0.4036903 (40)\ttotal: 513ms\tremaining: 12s\n",
      "41:\tlearn: 0.3951895\ttest: 0.4031471\tbest: 0.4031471 (41)\ttotal: 524ms\tremaining: 12s\n",
      "42:\tlearn: 0.3941702\ttest: 0.4023892\tbest: 0.4023892 (42)\ttotal: 540ms\tremaining: 12s\n",
      "43:\tlearn: 0.3937660\ttest: 0.4019395\tbest: 0.4019395 (43)\ttotal: 551ms\tremaining: 12s\n",
      "44:\tlearn: 0.3927944\ttest: 0.4014470\tbest: 0.4014470 (44)\ttotal: 564ms\tremaining: 12s\n",
      "45:\tlearn: 0.3908399\ttest: 0.4009512\tbest: 0.4009512 (45)\ttotal: 578ms\tremaining: 12s\n",
      "46:\tlearn: 0.3901331\ttest: 0.4007566\tbest: 0.4007566 (46)\ttotal: 588ms\tremaining: 11.9s\n",
      "47:\tlearn: 0.3889580\ttest: 0.3997791\tbest: 0.3997791 (47)\ttotal: 600ms\tremaining: 11.9s\n",
      "48:\tlearn: 0.3887444\ttest: 0.3996107\tbest: 0.3996107 (48)\ttotal: 611ms\tremaining: 11.9s\n",
      "49:\tlearn: 0.3880145\ttest: 0.3994795\tbest: 0.3994795 (49)\ttotal: 620ms\tremaining: 11.8s\n",
      "50:\tlearn: 0.3861612\ttest: 0.3993723\tbest: 0.3993723 (50)\ttotal: 632ms\tremaining: 11.8s\n",
      "51:\tlearn: 0.3860918\ttest: 0.3994349\tbest: 0.3993723 (50)\ttotal: 645ms\tremaining: 11.8s\n",
      "52:\tlearn: 0.3860134\ttest: 0.3992905\tbest: 0.3992905 (52)\ttotal: 661ms\tremaining: 11.8s\n",
      "53:\tlearn: 0.3859191\ttest: 0.3992922\tbest: 0.3992905 (52)\ttotal: 670ms\tremaining: 11.7s\n",
      "54:\tlearn: 0.3851535\ttest: 0.3984549\tbest: 0.3984549 (54)\ttotal: 683ms\tremaining: 11.7s\n",
      "55:\tlearn: 0.3851284\ttest: 0.3983855\tbest: 0.3983855 (55)\ttotal: 693ms\tremaining: 11.7s\n",
      "56:\tlearn: 0.3847691\ttest: 0.3980666\tbest: 0.3980666 (56)\ttotal: 702ms\tremaining: 11.6s\n",
      "57:\tlearn: 0.3835117\ttest: 0.3973601\tbest: 0.3973601 (57)\ttotal: 715ms\tremaining: 11.6s\n",
      "58:\tlearn: 0.3832734\ttest: 0.3971282\tbest: 0.3971282 (58)\ttotal: 727ms\tremaining: 11.6s\n",
      "59:\tlearn: 0.3832650\ttest: 0.3971268\tbest: 0.3971268 (59)\ttotal: 735ms\tremaining: 11.5s\n",
      "60:\tlearn: 0.3810067\ttest: 0.3967570\tbest: 0.3967570 (60)\ttotal: 747ms\tremaining: 11.5s\n",
      "61:\tlearn: 0.3805523\ttest: 0.3964469\tbest: 0.3964469 (61)\ttotal: 759ms\tremaining: 11.5s\n",
      "62:\tlearn: 0.3804480\ttest: 0.3965478\tbest: 0.3964469 (61)\ttotal: 767ms\tremaining: 11.4s\n",
      "63:\tlearn: 0.3803830\ttest: 0.3965422\tbest: 0.3964469 (61)\ttotal: 777ms\tremaining: 11.4s\n",
      "64:\tlearn: 0.3803644\ttest: 0.3965227\tbest: 0.3964469 (61)\ttotal: 785ms\tremaining: 11.3s\n",
      "65:\tlearn: 0.3803411\ttest: 0.3964903\tbest: 0.3964469 (61)\ttotal: 794ms\tremaining: 11.2s\n",
      "66:\tlearn: 0.3800262\ttest: 0.3959100\tbest: 0.3959100 (66)\ttotal: 802ms\tremaining: 11.2s\n",
      "67:\tlearn: 0.3798700\ttest: 0.3955446\tbest: 0.3955446 (67)\ttotal: 811ms\tremaining: 11.1s\n",
      "68:\tlearn: 0.3796540\ttest: 0.3954736\tbest: 0.3954736 (68)\ttotal: 819ms\tremaining: 11.1s\n",
      "69:\tlearn: 0.3793239\ttest: 0.3955714\tbest: 0.3954736 (68)\ttotal: 830ms\tremaining: 11s\n",
      "70:\tlearn: 0.3785719\ttest: 0.3954106\tbest: 0.3954106 (70)\ttotal: 843ms\tremaining: 11s\n",
      "71:\tlearn: 0.3784309\ttest: 0.3950710\tbest: 0.3950710 (71)\ttotal: 852ms\tremaining: 11s\n",
      "72:\tlearn: 0.3783858\ttest: 0.3949613\tbest: 0.3949613 (72)\ttotal: 864ms\tremaining: 11s\n",
      "73:\tlearn: 0.3752494\ttest: 0.3943178\tbest: 0.3943178 (73)\ttotal: 904ms\tremaining: 11.3s\n",
      "74:\tlearn: 0.3752333\ttest: 0.3943214\tbest: 0.3943178 (73)\ttotal: 934ms\tremaining: 11.5s\n",
      "75:\tlearn: 0.3750675\ttest: 0.3943253\tbest: 0.3943178 (73)\ttotal: 961ms\tremaining: 11.7s\n",
      "76:\tlearn: 0.3745375\ttest: 0.3940036\tbest: 0.3940036 (76)\ttotal: 997ms\tremaining: 12s\n",
      "77:\tlearn: 0.3742944\ttest: 0.3939278\tbest: 0.3939278 (77)\ttotal: 1.04s\tremaining: 12.3s\n",
      "78:\tlearn: 0.3727134\ttest: 0.3935262\tbest: 0.3935262 (78)\ttotal: 1.06s\tremaining: 12.4s\n",
      "79:\tlearn: 0.3726194\ttest: 0.3937137\tbest: 0.3935262 (78)\ttotal: 1.08s\tremaining: 12.4s\n",
      "80:\tlearn: 0.3687449\ttest: 0.3921684\tbest: 0.3921684 (80)\ttotal: 1.09s\tremaining: 12.4s\n",
      "81:\tlearn: 0.3685350\ttest: 0.3923540\tbest: 0.3921684 (80)\ttotal: 1.1s\tremaining: 12.4s\n",
      "82:\tlearn: 0.3679336\ttest: 0.3923855\tbest: 0.3921684 (80)\ttotal: 1.12s\tremaining: 12.4s\n",
      "83:\tlearn: 0.3679160\ttest: 0.3924005\tbest: 0.3921684 (80)\ttotal: 1.13s\tremaining: 12.3s\n",
      "84:\tlearn: 0.3664182\ttest: 0.3917933\tbest: 0.3917933 (84)\ttotal: 1.14s\tremaining: 12.3s\n",
      "85:\tlearn: 0.3633756\ttest: 0.3906594\tbest: 0.3906594 (85)\ttotal: 1.16s\tremaining: 12.3s\n",
      "86:\tlearn: 0.3633442\ttest: 0.3906602\tbest: 0.3906594 (85)\ttotal: 1.17s\tremaining: 12.2s\n",
      "87:\tlearn: 0.3604473\ttest: 0.3895321\tbest: 0.3895321 (87)\ttotal: 1.18s\tremaining: 12.2s\n",
      "88:\tlearn: 0.3602464\ttest: 0.3896064\tbest: 0.3895321 (87)\ttotal: 1.19s\tremaining: 12.2s\n",
      "89:\tlearn: 0.3598543\ttest: 0.3894374\tbest: 0.3894374 (89)\ttotal: 1.2s\tremaining: 12.2s\n",
      "90:\tlearn: 0.3588527\ttest: 0.3889248\tbest: 0.3889248 (90)\ttotal: 1.22s\tremaining: 12.2s\n",
      "91:\tlearn: 0.3571503\ttest: 0.3877175\tbest: 0.3877175 (91)\ttotal: 1.23s\tremaining: 12.2s\n",
      "92:\tlearn: 0.3570465\ttest: 0.3879103\tbest: 0.3877175 (91)\ttotal: 1.24s\tremaining: 12.1s\n",
      "93:\tlearn: 0.3568216\ttest: 0.3876937\tbest: 0.3876937 (93)\ttotal: 1.25s\tremaining: 12.1s\n",
      "94:\tlearn: 0.3566426\ttest: 0.3878899\tbest: 0.3876937 (93)\ttotal: 1.27s\tremaining: 12.1s\n"
     ]
    },
    {
     "name": "stdout",
     "output_type": "stream",
     "text": [
      "95:\tlearn: 0.3564335\ttest: 0.3879223\tbest: 0.3876937 (93)\ttotal: 1.28s\tremaining: 12.1s\n",
      "96:\tlearn: 0.3564291\ttest: 0.3879982\tbest: 0.3876937 (93)\ttotal: 1.3s\tremaining: 12.1s\n",
      "97:\tlearn: 0.3562385\ttest: 0.3877809\tbest: 0.3876937 (93)\ttotal: 1.31s\tremaining: 12.1s\n",
      "98:\tlearn: 0.3560481\ttest: 0.3874292\tbest: 0.3874292 (98)\ttotal: 1.33s\tremaining: 12.1s\n",
      "99:\tlearn: 0.3560159\ttest: 0.3874639\tbest: 0.3874292 (98)\ttotal: 1.34s\tremaining: 12s\n",
      "100:\tlearn: 0.3549061\ttest: 0.3851124\tbest: 0.3851124 (100)\ttotal: 1.35s\tremaining: 12s\n",
      "101:\tlearn: 0.3546800\ttest: 0.3852659\tbest: 0.3851124 (100)\ttotal: 1.37s\tremaining: 12s\n",
      "102:\tlearn: 0.3545495\ttest: 0.3850604\tbest: 0.3850604 (102)\ttotal: 1.38s\tremaining: 12s\n",
      "103:\tlearn: 0.3536462\ttest: 0.3846061\tbest: 0.3846061 (103)\ttotal: 1.39s\tremaining: 12s\n",
      "104:\tlearn: 0.3528581\ttest: 0.3835896\tbest: 0.3835896 (104)\ttotal: 1.41s\tremaining: 12s\n",
      "105:\tlearn: 0.3515447\ttest: 0.3835253\tbest: 0.3835253 (105)\ttotal: 1.42s\tremaining: 12s\n",
      "106:\tlearn: 0.3496019\ttest: 0.3832390\tbest: 0.3832390 (106)\ttotal: 1.43s\tremaining: 12s\n",
      "107:\tlearn: 0.3475803\ttest: 0.3814221\tbest: 0.3814221 (107)\ttotal: 1.45s\tremaining: 12s\n",
      "108:\tlearn: 0.3470411\ttest: 0.3812792\tbest: 0.3812792 (108)\ttotal: 1.46s\tremaining: 12s\n",
      "109:\tlearn: 0.3451122\ttest: 0.3816560\tbest: 0.3812792 (108)\ttotal: 1.48s\tremaining: 12s\n",
      "110:\tlearn: 0.3449320\ttest: 0.3813289\tbest: 0.3812792 (108)\ttotal: 1.5s\tremaining: 12s\n",
      "111:\tlearn: 0.3448917\ttest: 0.3813075\tbest: 0.3812792 (108)\ttotal: 1.51s\tremaining: 11.9s\n",
      "112:\tlearn: 0.3441741\ttest: 0.3819419\tbest: 0.3812792 (108)\ttotal: 1.52s\tremaining: 12s\n",
      "113:\tlearn: 0.3431354\ttest: 0.3820458\tbest: 0.3812792 (108)\ttotal: 1.54s\tremaining: 11.9s\n",
      "Stopped by overfitting detector  (5 iterations wait)\n",
      "\n",
      "bestTest = 0.3812791988\n",
      "bestIteration = 108\n",
      "\n",
      "Shrink model to first 109 iterations.\n"
     ]
    },
    {
     "data": {
      "text/plain": [
       "<catboost.core.CatBoostClassifier at 0x123e18ef0>"
      ]
     },
     "execution_count": 18,
     "metadata": {},
     "output_type": "execute_result"
    }
   ],
   "source": [
    "model.fit(X_train, y_train, cat_features=cat_index, \n",
    "          eval_set=(X_validation, y_validation),\n",
    "          use_best_model=True, early_stopping_rounds=5)"
   ]
  },
  {
   "cell_type": "code",
   "execution_count": 19,
   "metadata": {},
   "outputs": [
    {
     "data": {
      "text/plain": [
       "0.07479199767"
      ]
     },
     "execution_count": 19,
     "metadata": {},
     "output_type": "execute_result"
    }
   ],
   "source": [
    "model.learning_rate_"
   ]
  },
  {
   "cell_type": "code",
   "execution_count": null,
   "metadata": {
    "collapsed": true
   },
   "outputs": [],
   "source": []
  }
 ],
 "metadata": {
  "kernelspec": {
   "display_name": "Python 3",
   "language": "python",
   "name": "python3"
  },
  "language_info": {
   "codemirror_mode": {
    "name": "ipython",
    "version": 3
   },
   "file_extension": ".py",
   "mimetype": "text/x-python",
   "name": "python",
   "nbconvert_exporter": "python",
   "pygments_lexer": "ipython3",
   "version": "3.6.7"
  }
 },
 "nbformat": 4,
 "nbformat_minor": 2
}
